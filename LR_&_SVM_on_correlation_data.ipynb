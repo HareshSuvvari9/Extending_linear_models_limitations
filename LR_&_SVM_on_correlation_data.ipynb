{
 "cells": [
  {
   "cell_type": "code",
   "execution_count": 67,
   "metadata": {
    "colab": {
     "base_uri": "https://localhost:8080/",
     "height": 17
    },
    "id": "8ArWK463kbhL",
    "outputId": "82b65cb3-21d9-459f-99b7-38298c3d5be4"
   },
   "outputs": [
    {
     "data": {
      "text/html": [
       "        <script type=\"text/javascript\">\n",
       "        window.PlotlyConfig = {MathJaxConfig: 'local'};\n",
       "        if (window.MathJax) {MathJax.Hub.Config({SVG: {font: \"STIX-Web\"}});}\n",
       "        if (typeof require !== 'undefined') {\n",
       "        require.undef(\"plotly\");\n",
       "        requirejs.config({\n",
       "            paths: {\n",
       "                'plotly': ['https://cdn.plot.ly/plotly-latest.min']\n",
       "            }\n",
       "        });\n",
       "        require(['plotly'], function(Plotly) {\n",
       "            window._Plotly = Plotly;\n",
       "        });\n",
       "        }\n",
       "        </script>\n",
       "        "
      ]
     },
     "metadata": {
      "tags": []
     },
     "output_type": "display_data"
    }
   ],
   "source": [
    "#Importing essantial packages.\n",
    "import numpy as np\n",
    "import pandas as pd\n",
    "import plotly\n",
    "import plotly.figure_factory as ff\n",
    "import plotly.graph_objs as go\n",
    "from sklearn.linear_model import LogisticRegression\n",
    "from sklearn.preprocessing import StandardScaler\n",
    "from sklearn.preprocessing import MinMaxScaler\n",
    "from plotly.offline import download_plotlyjs, init_notebook_mode, plot, iplot\n",
    "init_notebook_mode(connected=True)\n",
    "import matplotlib.pyplot as plt"
   ]
  },
  {
   "cell_type": "code",
   "execution_count": 68,
   "metadata": {
    "id": "5mldzJdakbhS"
   },
   "outputs": [],
   "source": [
    "#For this task we are using custom data.\n",
    "data = pd.read_csv('b.csv')\n",
    "data=data.iloc[:,1:]"
   ]
  },
  {
   "cell_type": "code",
   "execution_count": 69,
   "metadata": {
    "colab": {
     "base_uri": "https://localhost:8080/",
     "height": 204
    },
    "id": "rsCrC2wckbhV",
    "outputId": "dd04cb33-37bd-4813-eb52-a06f6aa88eb3",
    "scrolled": true
   },
   "outputs": [
    {
     "data": {
      "text/html": [
       "<div>\n",
       "<style scoped>\n",
       "    .dataframe tbody tr th:only-of-type {\n",
       "        vertical-align: middle;\n",
       "    }\n",
       "\n",
       "    .dataframe tbody tr th {\n",
       "        vertical-align: top;\n",
       "    }\n",
       "\n",
       "    .dataframe thead th {\n",
       "        text-align: right;\n",
       "    }\n",
       "</style>\n",
       "<table border=\"1\" class=\"dataframe\">\n",
       "  <thead>\n",
       "    <tr style=\"text-align: right;\">\n",
       "      <th></th>\n",
       "      <th>f1</th>\n",
       "      <th>f2</th>\n",
       "      <th>f3</th>\n",
       "      <th>y</th>\n",
       "    </tr>\n",
       "  </thead>\n",
       "  <tbody>\n",
       "    <tr>\n",
       "      <th>0</th>\n",
       "      <td>-195.871045</td>\n",
       "      <td>-14843.084171</td>\n",
       "      <td>5.532140</td>\n",
       "      <td>1.0</td>\n",
       "    </tr>\n",
       "    <tr>\n",
       "      <th>1</th>\n",
       "      <td>-1217.183964</td>\n",
       "      <td>-4068.124621</td>\n",
       "      <td>4.416082</td>\n",
       "      <td>1.0</td>\n",
       "    </tr>\n",
       "    <tr>\n",
       "      <th>2</th>\n",
       "      <td>9.138451</td>\n",
       "      <td>4413.412028</td>\n",
       "      <td>0.425317</td>\n",
       "      <td>0.0</td>\n",
       "    </tr>\n",
       "    <tr>\n",
       "      <th>3</th>\n",
       "      <td>363.824242</td>\n",
       "      <td>15474.760647</td>\n",
       "      <td>1.094119</td>\n",
       "      <td>0.0</td>\n",
       "    </tr>\n",
       "    <tr>\n",
       "      <th>4</th>\n",
       "      <td>-768.812047</td>\n",
       "      <td>-7963.932192</td>\n",
       "      <td>1.870536</td>\n",
       "      <td>0.0</td>\n",
       "    </tr>\n",
       "  </tbody>\n",
       "</table>\n",
       "</div>"
      ],
      "text/plain": [
       "            f1            f2        f3    y\n",
       "0  -195.871045 -14843.084171  5.532140  1.0\n",
       "1 -1217.183964  -4068.124621  4.416082  1.0\n",
       "2     9.138451   4413.412028  0.425317  0.0\n",
       "3   363.824242  15474.760647  1.094119  0.0\n",
       "4  -768.812047  -7963.932192  1.870536  0.0"
      ]
     },
     "execution_count": 69,
     "metadata": {
      "tags": []
     },
     "output_type": "execute_result"
    }
   ],
   "source": [
    "#sample data.\n",
    "data.head()"
   ]
  },
  {
   "cell_type": "code",
   "execution_count": 70,
   "metadata": {
    "colab": {
     "base_uri": "https://localhost:8080/"
    },
    "id": "FI18joJ_kbhZ",
    "outputId": "11d99442-b7f9-4278-b684-472f8a94d602"
   },
   "outputs": [
    {
     "data": {
      "text/plain": [
       "f1    0.067172\n",
       "f2   -0.017944\n",
       "f3    0.839060\n",
       "y     1.000000\n",
       "Name: y, dtype: float64"
      ]
     },
     "execution_count": 70,
     "metadata": {
      "tags": []
     },
     "output_type": "execute_result"
    }
   ],
   "source": [
    "#checking the correlation of data.\n",
    "data.corr()['y']"
   ]
  },
  {
   "cell_type": "code",
   "execution_count": 71,
   "metadata": {
    "colab": {
     "base_uri": "https://localhost:8080/"
    },
    "id": "u40oCVMikbhc",
    "outputId": "6d0ab2f9-dc30-444f-ae3f-faf83f2d5e45",
    "scrolled": true
   },
   "outputs": [
    {
     "data": {
      "text/plain": [
       "f1      488.195035\n",
       "f2    10403.417325\n",
       "f3        2.926662\n",
       "y         0.501255\n",
       "dtype: float64"
      ]
     },
     "execution_count": 71,
     "metadata": {
      "tags": []
     },
     "output_type": "execute_result"
    }
   ],
   "source": [
    "#Getting standard deviation of data.\n",
    "data.std()"
   ]
  },
  {
   "cell_type": "code",
   "execution_count": 72,
   "metadata": {
    "colab": {
     "base_uri": "https://localhost:8080/"
    },
    "id": "yQIbNaHskbhe",
    "outputId": "bf43b8cc-0921-446b-c971-96e6d8b31470"
   },
   "outputs": [
    {
     "name": "stdout",
     "output_type": "stream",
     "text": [
      "(200, 3)\n",
      "(200,)\n"
     ]
    }
   ],
   "source": [
    "X=data[['f1','f2','f3']].values\n",
    "Y=data['y'].values\n",
    "print(X.shape)\n",
    "print(Y.shape)"
   ]
  },
  {
   "cell_type": "markdown",
   "metadata": {
    "id": "aUxp9-qEkbhh"
   },
   "source": [
    "# Features with different variance \n",
    "\n",
    "<pre>\n",
    "* <b>Observing how linear models work in case of data having feautres with different variance</b>\n",
    "* <b>From the output of the above cell we can observe that var(F2)>>var(F1)>>Var(F3)</b>\n",
    "\n",
    "> <b>1</b>:\n",
    "    1. Applying Logistic regression(SGDClassifier with logloss) on 'data' and check the feature importance\n",
    "    2. Apply SVM(SGDClassifier with hinge) on 'data' and check the feature importance\n",
    "\n",
    "> <b>2</b>:\n",
    "    1. Apply Logistic regression(SGDClassifier with logloss) on 'data' after standardization \n",
    "       i.e standardization(data, column wise): (column-mean(column))/std(column) and check the feature importance\n",
    "    2. Apply SVM(SGDClassifier with hinge) on 'data' after standardization \n",
    "       i.e standardization(data, column wise): (column-mean(column))/std(column) and check the feature importance\n",
    "\n",
    "</pre>"
   ]
  },
  {
   "cell_type": "markdown",
   "metadata": {
    "id": "Fh3E7YJjaCzM"
   },
   "source": [
    "##### Feature names \n",
    "###### f1--->0 ,f2--->1 ,f3--->2"
   ]
  },
  {
   "cell_type": "code",
   "execution_count": 73,
   "metadata": {
    "colab": {
     "base_uri": "https://localhost:8080/"
    },
    "id": "ION7CukU7KZI",
    "outputId": "e29ec934-c6d0-44c8-b32c-1614523e78c9"
   },
   "outputs": [
    {
     "name": "stdout",
     "output_type": "stream",
     "text": [
      "Feature-name: 0, Score(LOGISTIC_REGRESSION): 11440.606369007257\n",
      "Feature-name: 1, Score(LOGISTIC_REGRESSION): 14897.16542258082\n",
      "Feature-name: 2, Score(LOGISTIC_REGRESSION): 11257.1186335215\n"
     ]
    }
   ],
   "source": [
    "#Applying logistic regression on task_b.csv\n",
    "from sklearn.linear_model import SGDClassifier\n",
    "clf1=SGDClassifier(loss='log')\n",
    "clf1.fit(X,Y)\n",
    "c1=np.abs(clf1.coef_[0])\n",
    "for i1,v1 in enumerate(c1):\n",
    "  print('Feature-name: %s, Score(LOGISTIC_REGRESSION): %s' % (i1,v1))\n"
   ]
  },
  {
   "cell_type": "code",
   "execution_count": 74,
   "metadata": {
    "colab": {
     "base_uri": "https://localhost:8080/"
    },
    "id": "tutjCn3VJfhs",
    "outputId": "a0032ed9-b816-40f1-f355-38cd9907a6d5"
   },
   "outputs": [
    {
     "name": "stdout",
     "output_type": "stream",
     "text": [
      "Feature-name: 0, Score(SVM): 11440.606369007257\n",
      "Feature-name: 1, Score(SVM): 14897.16542258082\n",
      "Feature-name: 2, Score(SVM): 11257.1186335215\n"
     ]
    }
   ],
   "source": [
    "#Applying SVM on task_b.csv\n",
    "clf2=SGDClassifier(loss='hinge')\n",
    "clf2.fit(X,Y)\n",
    "c2=np.abs(clf2.coef_[0])\n",
    "for i2,v2 in enumerate(c1):\n",
    "  print('Feature-name: %s, Score(SVM): %s' % (i2,v2))"
   ]
  },
  {
   "cell_type": "code",
   "execution_count": 75,
   "metadata": {
    "id": "x7NmzpxkM2Su"
   },
   "outputs": [],
   "source": [
    "#perform standalization on the data.\n",
    "from sklearn.preprocessing import StandardScaler\n",
    "scaler=StandardScaler()\n",
    "data[['f1', 'f2','f3']] = scaler.fit_transform(data[['f1', 'f2','f3']])\n",
    "X1=data[['f1','f2','f3']].values"
   ]
  },
  {
   "cell_type": "code",
   "execution_count": 76,
   "metadata": {
    "colab": {
     "base_uri": "https://localhost:8080/"
    },
    "id": "PQUAxB07K39v",
    "outputId": "a8b4c583-f0d1-415f-9800-44e4edf9e4f2"
   },
   "outputs": [
    {
     "name": "stdout",
     "output_type": "stream",
     "text": [
      "Feature-name: 0, Score(LOGISTIC_REGRESSION+STANDRALIZATION): 1.088873983064113\n",
      "Feature-name: 1, Score(LOGISTIC_REGRESSION+STANDRALIZATION): 0.41896102283440406\n",
      "Feature-name: 2, Score(LOGISTIC_REGRESSION+STANDRALIZATION): 9.757458496206008\n"
     ]
    }
   ],
   "source": [
    "#Applying logistic regression with standardization.\n",
    "clf3=SGDClassifier(loss='log')\n",
    "clf3.fit(X1,Y)\n",
    "c3=np.abs(clf3.coef_[0])\n",
    "for i3,v3 in enumerate(c3):\n",
    "  print('Feature-name: %s, Score(LOGISTIC_REGRESSION+STANDRALIZATION): %s' % (i3,v3))"
   ]
  },
  {
   "cell_type": "code",
   "execution_count": 77,
   "metadata": {
    "colab": {
     "base_uri": "https://localhost:8080/"
    },
    "id": "gguAn5jUBzPi",
    "outputId": "71f5382e-bf99-4117-82c5-d261840482b4"
   },
   "outputs": [
    {
     "name": "stdout",
     "output_type": "stream",
     "text": [
      "Feature-name : 0, Score(SVM+STANDRALIZATION): 2.092426433655857\n",
      "Feature-name : 1, Score(SVM+STANDRALIZATION): 2.885826641218829\n",
      "Feature-name : 2, Score(SVM+STANDRALIZATION): 23.985195579686923\n"
     ]
    }
   ],
   "source": [
    "#Applying svm on data after standardization.\n",
    "clf4=SGDClassifier(loss='hinge')\n",
    "clf4.fit(X1,Y)\n",
    "c4=np.abs(clf4.coef_[0])\n",
    "for i4,v4 in enumerate(c4):\n",
    "  print('Feature-name : %s, Score(SVM+STANDRALIZATION): %s' % (i4,v4))"
   ]
  },
  {
   "cell_type": "markdown",
   "metadata": {
    "id": "-lS5R-0wDgha"
   },
   "source": [
    "#Observation:"
   ]
  },
  {
   "cell_type": "markdown",
   "metadata": {
    "id": "1rUmblkqKxCj"
   },
   "source": [
    "####  1.The correlation values effects the feature importance.\n",
    "#### 2.Both in the case of logistic regression (without standralization) and svm (without standralization) the coef( feature importance)  are same and those (values) are high compared to (logistic_regression,svm)with strandralization.\n",
    "#### 3.In the case of logistic regression (with standralization) and svm (with standralization) the coef (feature importance) varies.\n",
    "##### 3.1 In the case of logistic regression (with standralization) and svm (with standralization) the coef (feature importance) is low when the   corelation coefficent is low."
   ]
  }
 ],
 "metadata": {
  "accelerator": "TPU",
  "colab": {
   "name": "8B_LR_SVM.ipynb",
   "provenance": []
  },
  "kernelspec": {
   "display_name": "Python 3",
   "language": "python",
   "name": "python3"
  },
  "language_info": {
   "codemirror_mode": {
    "name": "ipython",
    "version": 3
   },
   "file_extension": ".py",
   "mimetype": "text/x-python",
   "name": "python",
   "nbconvert_exporter": "python",
   "pygments_lexer": "ipython3",
   "version": "3.7.6"
  }
 },
 "nbformat": 4,
 "nbformat_minor": 4
}
