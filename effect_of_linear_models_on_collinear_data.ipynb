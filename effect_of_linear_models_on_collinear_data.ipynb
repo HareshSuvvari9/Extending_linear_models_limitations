{
 "cells": [
  {
   "cell_type": "markdown",
   "metadata": {
    "id": "86Tvnj5UblTy"
   },
   "source": [
    "## Collinear features effect on linear models"
   ]
  },
  {
   "cell_type": "code",
   "execution_count": null,
   "metadata": {
    "id": "qn_eOn2EblT3"
   },
   "outputs": [],
   "source": [
    "#Importing essantial packages.\n",
    "%matplotlib inline\n",
    "import warnings\n",
    "warnings.filterwarnings(\"ignore\")\n",
    "import pandas as pd\n",
    "import numpy as np\n",
    "from sklearn.datasets import load_iris\n",
    "from sklearn.linear_model import SGDClassifier\n",
    "from sklearn.model_selection import GridSearchCV\n",
    "import seaborn as sns\n",
    "import matplotlib.pyplot as plt"
   ]
  },
  {
   "cell_type": "code",
   "execution_count": null,
   "metadata": {
    "id": "VMoYWIayblUB"
   },
   "outputs": [],
   "source": [
    "#For this task we are using custom data.\n",
    "data = pd.read_csv('d.csv')"
   ]
  },
  {
   "cell_type": "code",
   "execution_count": null,
   "metadata": {
    "colab": {
     "base_uri": "https://localhost:8080/",
     "height": 204
    },
    "executionInfo": {
     "elapsed": 778,
     "status": "ok",
     "timestamp": 1613238425061,
     "user": {
      "displayName": "haresh suvvari",
      "photoUrl": "https://lh3.googleusercontent.com/a-/AOh14GiYyNgK2vcRSBBUKZQkku7DrABRGFClu-dcr1Mg=s64",
      "userId": "17479193107625929268"
     },
     "user_tz": -330
    },
    "id": "RfStXG4tblUI",
    "outputId": "6f8900ce-ed46-4021-e0e0-a38f49633bdd"
   },
   "outputs": [
    {
     "data": {
      "text/html": [
       "<div>\n",
       "<style scoped>\n",
       "    .dataframe tbody tr th:only-of-type {\n",
       "        vertical-align: middle;\n",
       "    }\n",
       "\n",
       "    .dataframe tbody tr th {\n",
       "        vertical-align: top;\n",
       "    }\n",
       "\n",
       "    .dataframe thead th {\n",
       "        text-align: right;\n",
       "    }\n",
       "</style>\n",
       "<table border=\"1\" class=\"dataframe\">\n",
       "  <thead>\n",
       "    <tr style=\"text-align: right;\">\n",
       "      <th></th>\n",
       "      <th>x</th>\n",
       "      <th>y</th>\n",
       "      <th>z</th>\n",
       "      <th>x*x</th>\n",
       "      <th>2*y</th>\n",
       "      <th>2*z+3*x*x</th>\n",
       "      <th>w</th>\n",
       "      <th>target</th>\n",
       "    </tr>\n",
       "  </thead>\n",
       "  <tbody>\n",
       "    <tr>\n",
       "      <th>0</th>\n",
       "      <td>-0.581066</td>\n",
       "      <td>0.841837</td>\n",
       "      <td>-1.012978</td>\n",
       "      <td>-0.604025</td>\n",
       "      <td>0.841837</td>\n",
       "      <td>-0.665927</td>\n",
       "      <td>-0.536277</td>\n",
       "      <td>0</td>\n",
       "    </tr>\n",
       "    <tr>\n",
       "      <th>1</th>\n",
       "      <td>-0.894309</td>\n",
       "      <td>-0.207835</td>\n",
       "      <td>-1.012978</td>\n",
       "      <td>-0.883052</td>\n",
       "      <td>-0.207835</td>\n",
       "      <td>-0.917054</td>\n",
       "      <td>-0.522364</td>\n",
       "      <td>0</td>\n",
       "    </tr>\n",
       "    <tr>\n",
       "      <th>2</th>\n",
       "      <td>-1.207552</td>\n",
       "      <td>0.212034</td>\n",
       "      <td>-1.082312</td>\n",
       "      <td>-1.150918</td>\n",
       "      <td>0.212034</td>\n",
       "      <td>-1.166507</td>\n",
       "      <td>0.205738</td>\n",
       "      <td>0</td>\n",
       "    </tr>\n",
       "    <tr>\n",
       "      <th>3</th>\n",
       "      <td>-1.364174</td>\n",
       "      <td>0.002099</td>\n",
       "      <td>-0.943643</td>\n",
       "      <td>-1.280666</td>\n",
       "      <td>0.002099</td>\n",
       "      <td>-1.266540</td>\n",
       "      <td>-0.665720</td>\n",
       "      <td>0</td>\n",
       "    </tr>\n",
       "    <tr>\n",
       "      <th>4</th>\n",
       "      <td>-0.737687</td>\n",
       "      <td>1.051772</td>\n",
       "      <td>-1.012978</td>\n",
       "      <td>-0.744934</td>\n",
       "      <td>1.051772</td>\n",
       "      <td>-0.792746</td>\n",
       "      <td>-0.735054</td>\n",
       "      <td>0</td>\n",
       "    </tr>\n",
       "  </tbody>\n",
       "</table>\n",
       "</div>"
      ],
      "text/plain": [
       "          x         y         z  ...  2*z+3*x*x         w  target\n",
       "0 -0.581066  0.841837 -1.012978  ...  -0.665927 -0.536277       0\n",
       "1 -0.894309 -0.207835 -1.012978  ...  -0.917054 -0.522364       0\n",
       "2 -1.207552  0.212034 -1.082312  ...  -1.166507  0.205738       0\n",
       "3 -1.364174  0.002099 -0.943643  ...  -1.266540 -0.665720       0\n",
       "4 -0.737687  1.051772 -1.012978  ...  -0.792746 -0.735054       0\n",
       "\n",
       "[5 rows x 8 columns]"
      ]
     },
     "execution_count": 6,
     "metadata": {
      "tags": []
     },
     "output_type": "execute_result"
    }
   ],
   "source": [
    "data.head()"
   ]
  },
  {
   "cell_type": "code",
   "execution_count": null,
   "metadata": {
    "id": "JIIuomCkblUP"
   },
   "outputs": [],
   "source": [
    "X = data.drop(['target'], axis=1).values\n",
    "Y = data['target'].values"
   ]
  },
  {
   "cell_type": "markdown",
   "metadata": {
    "id": "Ydm98u3EblUU"
   },
   "source": [
    "### Doing perturbation test to check the presence of collinearity  \n",
    "\n",
    "####  1 Logistic Regression\n",
    "<pre>\n",
    "\n",
    "\n",
    "1. <b>Finding the Correlation between the features</b>\n",
    "    a. check the correlation between the features\n",
    "    b. plot heat map of correlation matrix using seaborn heatmap\n",
    "2. <b>Finding the best model for the given data</b>\n",
    "    a. Train Logistic regression on data(X,Y) that we have created in the above cell\n",
    "    b. Find the best hyper prameter alpha with hyper parameter tuning using k-fold cross validation (grid search CV or         \n",
    "    random search CV make sure you choose the alpha in log space)\n",
    "    c. Create a new Logistic regression with the best alpha\n",
    "    (search for how to get the best hyper parameter value), name the best model as 'best_model'\n",
    "    \n",
    "3. <b>Getting the weights with the original data</b>\n",
    "    a. train the 'best_model' with X, Y\n",
    "    b. Check the accuracy of the model 'best_model_accuracy'\n",
    "    c. Get the weights W using best_model.coef_\n",
    "\n",
    "4. <b>Modifying original data</b>\n",
    "    a. Add a noise(order of 10^-2) to each element of X \n",
    "    and get the new data set X' (X' = X + e)\n",
    "    b. Train the same 'best_model' with data (X', Y)\n",
    "    c. Check the accuracy of the model 'best_model_accuracy_edited'\n",
    "    d. Get the weights W' using best_model.coef_\n",
    "    \n",
    "5. <b> Checking deviations in metric and weights </b>\n",
    "    a. find the difference between 'best_model_accuracy_edited' and 'best_model_accuracy'\n",
    "    b. find the absolute change between each value of W and W' ==> |(W-W')|\n",
    "    c. print the top 4 features which have higher % change in weights \n",
    "    compare to the other feature\n",
    "\n",
    "</pre>\n",
    "\n",
    "#### 2 Linear SVM\n",
    "\n",
    "<pre>\n",
    "1. Do the same steps (2, 3, 4, 5) we have done in the above  1.\n",
    "</pre>\n"
   ]
  },
  {
   "cell_type": "code",
   "execution_count": null,
   "metadata": {
    "colab": {
     "base_uri": "https://localhost:8080/",
     "height": 297
    },
    "executionInfo": {
     "elapsed": 810,
     "status": "ok",
     "timestamp": 1613238431996,
     "user": {
      "displayName": "haresh suvvari",
      "photoUrl": "https://lh3.googleusercontent.com/a-/AOh14GiYyNgK2vcRSBBUKZQkku7DrABRGFClu-dcr1Mg=s64",
      "userId": "17479193107625929268"
     },
     "user_tz": -330
    },
    "id": "ar5REb5Sf1dJ",
    "outputId": "b875b558-a71b-441e-95c0-af7cae1e1b3b"
   },
   "outputs": [
    {
     "data": {
      "text/html": [
       "<div>\n",
       "<style scoped>\n",
       "    .dataframe tbody tr th:only-of-type {\n",
       "        vertical-align: middle;\n",
       "    }\n",
       "\n",
       "    .dataframe tbody tr th {\n",
       "        vertical-align: top;\n",
       "    }\n",
       "\n",
       "    .dataframe thead th {\n",
       "        text-align: right;\n",
       "    }\n",
       "</style>\n",
       "<table border=\"1\" class=\"dataframe\">\n",
       "  <thead>\n",
       "    <tr style=\"text-align: right;\">\n",
       "      <th></th>\n",
       "      <th>x</th>\n",
       "      <th>y</th>\n",
       "      <th>z</th>\n",
       "      <th>x*x</th>\n",
       "      <th>2*y</th>\n",
       "      <th>2*z+3*x*x</th>\n",
       "      <th>w</th>\n",
       "      <th>target</th>\n",
       "    </tr>\n",
       "  </thead>\n",
       "  <tbody>\n",
       "    <tr>\n",
       "      <th>x</th>\n",
       "      <td>1.000000</td>\n",
       "      <td>-0.279215</td>\n",
       "      <td>0.815543</td>\n",
       "      <td>1.000000</td>\n",
       "      <td>-0.279215</td>\n",
       "      <td>0.994639</td>\n",
       "      <td>0.554162</td>\n",
       "      <td>0.750583</td>\n",
       "    </tr>\n",
       "    <tr>\n",
       "      <th>y</th>\n",
       "      <td>-0.279215</td>\n",
       "      <td>1.000000</td>\n",
       "      <td>-0.510861</td>\n",
       "      <td>-0.279215</td>\n",
       "      <td>1.000000</td>\n",
       "      <td>-0.337037</td>\n",
       "      <td>-0.438569</td>\n",
       "      <td>-0.737998</td>\n",
       "    </tr>\n",
       "    <tr>\n",
       "      <th>z</th>\n",
       "      <td>0.815543</td>\n",
       "      <td>-0.510861</td>\n",
       "      <td>1.000000</td>\n",
       "      <td>0.815543</td>\n",
       "      <td>-0.510861</td>\n",
       "      <td>0.856275</td>\n",
       "      <td>0.631669</td>\n",
       "      <td>0.868640</td>\n",
       "    </tr>\n",
       "    <tr>\n",
       "      <th>x*x</th>\n",
       "      <td>1.000000</td>\n",
       "      <td>-0.279215</td>\n",
       "      <td>0.815543</td>\n",
       "      <td>1.000000</td>\n",
       "      <td>-0.279215</td>\n",
       "      <td>0.994639</td>\n",
       "      <td>0.554162</td>\n",
       "      <td>0.750583</td>\n",
       "    </tr>\n",
       "    <tr>\n",
       "      <th>2*y</th>\n",
       "      <td>-0.279215</td>\n",
       "      <td>1.000000</td>\n",
       "      <td>-0.510861</td>\n",
       "      <td>-0.279215</td>\n",
       "      <td>1.000000</td>\n",
       "      <td>-0.337037</td>\n",
       "      <td>-0.438569</td>\n",
       "      <td>-0.737998</td>\n",
       "    </tr>\n",
       "    <tr>\n",
       "      <th>2*z+3*x*x</th>\n",
       "      <td>0.994639</td>\n",
       "      <td>-0.337037</td>\n",
       "      <td>0.856275</td>\n",
       "      <td>0.994639</td>\n",
       "      <td>-0.337037</td>\n",
       "      <td>1.000000</td>\n",
       "      <td>0.586431</td>\n",
       "      <td>0.798917</td>\n",
       "    </tr>\n",
       "    <tr>\n",
       "      <th>w</th>\n",
       "      <td>0.554162</td>\n",
       "      <td>-0.438569</td>\n",
       "      <td>0.631669</td>\n",
       "      <td>0.554162</td>\n",
       "      <td>-0.438569</td>\n",
       "      <td>0.586431</td>\n",
       "      <td>1.000000</td>\n",
       "      <td>0.629805</td>\n",
       "    </tr>\n",
       "    <tr>\n",
       "      <th>target</th>\n",
       "      <td>0.750583</td>\n",
       "      <td>-0.737998</td>\n",
       "      <td>0.868640</td>\n",
       "      <td>0.750583</td>\n",
       "      <td>-0.737998</td>\n",
       "      <td>0.798917</td>\n",
       "      <td>0.629805</td>\n",
       "      <td>1.000000</td>\n",
       "    </tr>\n",
       "  </tbody>\n",
       "</table>\n",
       "</div>"
      ],
      "text/plain": [
       "                  x         y         z  ...  2*z+3*x*x         w    target\n",
       "x          1.000000 -0.279215  0.815543  ...   0.994639  0.554162  0.750583\n",
       "y         -0.279215  1.000000 -0.510861  ...  -0.337037 -0.438569 -0.737998\n",
       "z          0.815543 -0.510861  1.000000  ...   0.856275  0.631669  0.868640\n",
       "x*x        1.000000 -0.279215  0.815543  ...   0.994639  0.554162  0.750583\n",
       "2*y       -0.279215  1.000000 -0.510861  ...  -0.337037 -0.438569 -0.737998\n",
       "2*z+3*x*x  0.994639 -0.337037  0.856275  ...   1.000000  0.586431  0.798917\n",
       "w          0.554162 -0.438569  0.631669  ...   0.586431  1.000000  0.629805\n",
       "target     0.750583 -0.737998  0.868640  ...   0.798917  0.629805  1.000000\n",
       "\n",
       "[8 rows x 8 columns]"
      ]
     },
     "execution_count": 8,
     "metadata": {
      "tags": []
     },
     "output_type": "execute_result"
    }
   ],
   "source": [
    "#Printing the correlation between features.\n",
    "data.corr(method=\"spearman\")"
   ]
  },
  {
   "cell_type": "code",
   "execution_count": null,
   "metadata": {
    "colab": {
     "base_uri": "https://localhost:8080/",
     "height": 312
    },
    "executionInfo": {
     "elapsed": 1735,
     "status": "ok",
     "timestamp": 1613238447988,
     "user": {
      "displayName": "haresh suvvari",
      "photoUrl": "https://lh3.googleusercontent.com/a-/AOh14GiYyNgK2vcRSBBUKZQkku7DrABRGFClu-dcr1Mg=s64",
      "userId": "17479193107625929268"
     },
     "user_tz": -330
    },
    "id": "axfSrbQjf25h",
    "outputId": "dc47546d-19b8-41fb-afff-2ba68e1d430b"
   },
   "outputs": [
    {
     "data": {
      "image/png": "[encoded data removed]",
      "text/plain": [
       "<Figure size 432x288 with 2 Axes>"
      ]
     },
     "metadata": {
      "needs_background": "light",
      "tags": []
     },
     "output_type": "display_data"
    }
   ],
   "source": [
    "#Plotting the heatmap of correlation between data.\n",
    "ax=sns.heatmap(data.corr(method='spearman'),cmap=\"YlGnBu\",annot=True)"
   ]
  },
  {
   "cell_type": "markdown",
   "metadata": {
    "id": "syzNbFylVYro"
   },
   "source": [
    "#Task 1 (Logistic Regression)"
   ]
  },
  {
   "cell_type": "code",
   "execution_count": null,
   "metadata": {
    "colab": {
     "base_uri": "https://localhost:8080/"
    },
    "executionInfo": {
     "elapsed": 1805,
     "status": "ok",
     "timestamp": 1612684338729,
     "user": {
      "displayName": "haresh suvvari",
      "photoUrl": "https://lh3.googleusercontent.com/a-/AOh14GiYyNgK2vcRSBBUKZQkku7DrABRGFClu-dcr1Mg=s64",
      "userId": "17479193107625929268"
     },
     "user_tz": -330
    },
    "id": "rlPBHU1gvDfW",
    "outputId": "42c669ea-89d8-49e3-d7af-308404184c24"
   },
   "outputs": [
    {
     "name": "stdout",
     "output_type": "stream",
     "text": [
      "We found best \"HYPER-PARAMETER ,PENALTY : {'C': 0.0001, 'penalty': 'l2'}\n"
     ]
    }
   ],
   "source": [
    "#finding besst hyper parameter for logistic regression.\n",
    "from sklearn.linear_model import LogisticRegression\n",
    "C = np.logspace(-4, 4, 50)\n",
    "penalty = ['l1', 'l2']\n",
    "lr=LogisticRegression()\n",
    "grid_values={'penalty': penalty,'C':C}\n",
    "grid_clf = GridSearchCV(lr, param_grid = grid_values)\n",
    "grid_clf.fit(X,Y)\n",
    "print(\"We found best \\\"HYPER-PARAMETER ,PENALTY :\",grid_clf.best_params_)"
   ]
  },
  {
   "cell_type": "code",
   "execution_count": null,
   "metadata": {
    "colab": {
     "base_uri": "https://localhost:8080/"
    },
    "executionInfo": {
     "elapsed": 1423,
     "status": "ok",
     "timestamp": 1612684341431,
     "user": {
      "displayName": "haresh suvvari",
      "photoUrl": "https://lh3.googleusercontent.com/a-/AOh14GiYyNgK2vcRSBBUKZQkku7DrABRGFClu-dcr1Mg=s64",
      "userId": "17479193107625929268"
     },
     "user_tz": -330
    },
    "id": "shSFOeWIEcGo",
    "outputId": "ca31ae60-c0b0-4a35-f94c-da25d6f9b8ad"
   },
   "outputs": [
    {
     "name": "stdout",
     "output_type": "stream",
     "text": [
      "we found best accuracy : 0.48\n"
     ]
    }
   ],
   "source": [
    "#Training the logistic regression with BEST HYPERPARAMETER and PENALTY (Best Model).\n",
    "import pandas\n",
    "from sklearn.metrics import accuracy_score\n",
    "from sklearn.model_selection import train_test_split\n",
    "Best_Model_logreg=LogisticRegression(penalty='l2',C=0.0001)\n",
    "Best_Model_logreg.fit(x_train,y_train)\n",
    "y_pred=Best_Model_logreg.predict(x_test)\n",
    "best_score = accuracy_score(y_test,y_pred)\n",
    "print(\"we found best accuracy :\",best_score)"
   ]
  },
  {
   "cell_type": "code",
   "execution_count": null,
   "metadata": {
    "colab": {
     "base_uri": "https://localhost:8080/"
    },
    "executionInfo": {
     "elapsed": 1655,
     "status": "ok",
     "timestamp": 1612685666772,
     "user": {
      "displayName": "haresh suvvari",
      "photoUrl": "https://lh3.googleusercontent.com/a-/AOh14GiYyNgK2vcRSBBUKZQkku7DrABRGFClu-dcr1Mg=s64",
      "userId": "17479193107625929268"
     },
     "user_tz": -330
    },
    "id": "YRGfXLcljQu8",
    "outputId": "7a51bdd6-f3c6-43c4-f6f9-dc071212d806"
   },
   "outputs": [
    {
     "name": "stdout",
     "output_type": "stream",
     "text": [
      "Index(['x', 'y', 'z', 'x*x', '2*y', '2*z+3*x*x', 'w', 'target'], dtype='object')\n",
      "Feature names _____Importance\n",
      "x ---------------- 0.002498607940814591\n",
      "y ---------------- -0.0025967677500452657\n",
      "z ---------------- 0.0036033196572620094\n",
      "x*x ---------------- 0.002487598265391399\n",
      "2*y ---------------- -0.0025967677500452644\n",
      "2*z+3*x*x ---------------- 0.0026738980638405458\n",
      "w ---------------- 0.0023005454495008295\n"
     ]
    }
   ],
   "source": [
    "bm=data.columns\n",
    "print(bm)\n",
    "print(\"Feature names _____Importance\")\n",
    "for i2,v2 in enumerate(Best_Model_logreg.coef_[0]):\n",
    "  print(bm[i2],\"----------------\",v2)"
   ]
  },
  {
   "cell_type": "code",
   "execution_count": null,
   "metadata": {
    "colab": {
     "base_uri": "https://localhost:8080/",
     "height": 265
    },
    "executionInfo": {
     "elapsed": 1273,
     "status": "ok",
     "timestamp": 1612685715400,
     "user": {
      "displayName": "haresh suvvari",
      "photoUrl": "https://lh3.googleusercontent.com/a-/AOh14GiYyNgK2vcRSBBUKZQkku7DrABRGFClu-dcr1Mg=s64",
      "userId": "17479193107625929268"
     },
     "user_tz": -330
    },
    "id": "gIkX0wS9jpWq",
    "outputId": "1d15f70c-6c8d-440f-d1d6-cc68d4365f2f"
   },
   "outputs": [
    {
     "data": {
      "image/png": "[encoded data removed]",
      "text/plain": [
       "<Figure size 432x288 with 1 Axes>"
      ]
     },
     "metadata": {
      "needs_background": "light",
      "tags": []
     },
     "output_type": "display_data"
    }
   ],
   "source": [
    "from matplotlib import pyplot\n",
    "pyplot.bar([x for x in range(len(Best_Model_logreg.coef_[0]))], Best_Model_logreg.coef_[0])\n",
    "pyplot.show()"
   ]
  },
  {
   "cell_type": "code",
   "execution_count": null,
   "metadata": {
    "colab": {
     "base_uri": "https://localhost:8080/"
    },
    "executionInfo": {
     "elapsed": 1244,
     "status": "ok",
     "timestamp": 1612684323821,
     "user": {
      "displayName": "haresh suvvari",
      "photoUrl": "https://lh3.googleusercontent.com/a-/AOh14GiYyNgK2vcRSBBUKZQkku7DrABRGFClu-dcr1Mg=s64",
      "userId": "17479193107625929268"
     },
     "user_tz": -330
    },
    "id": "p_xSHVIEFV8e",
    "outputId": "17cb0dc5-526a-4c26-a0d3-6ca0c5ac0c34"
   },
   "outputs": [
    {
     "data": {
      "text/plain": [
       "array([0.04239004])"
      ]
     },
     "execution_count": 17,
     "metadata": {
      "tags": []
     },
     "output_type": "execute_result"
    }
   ],
   "source": [
    "#Creating a epsilon value for pertubation test.\n",
    "E = np.random.normal(0, 0.11, 1)\n",
    "E"
   ]
  },
  {
   "cell_type": "code",
   "execution_count": null,
   "metadata": {
    "colab": {
     "base_uri": "https://localhost:8080/"
    },
    "executionInfo": {
     "elapsed": 1327,
     "status": "ok",
     "timestamp": 1612684346554,
     "user": {
      "displayName": "haresh suvvari",
      "photoUrl": "https://lh3.googleusercontent.com/a-/AOh14GiYyNgK2vcRSBBUKZQkku7DrABRGFClu-dcr1Mg=s64",
      "userId": "17479193107625929268"
     },
     "user_tz": -330
    },
    "id": "VmDULfchqOVb",
    "outputId": "f675ea5f-8b57-4168-97b6-a040c3af8373"
   },
   "outputs": [
    {
     "name": "stdout",
     "output_type": "stream",
     "text": [
      "(75, 7)\n"
     ]
    }
   ],
   "source": [
    "#Adding epsilion value to data.\n",
    "X1=x_train+E\n",
    "print(X1.shape)"
   ]
  },
  {
   "cell_type": "code",
   "execution_count": null,
   "metadata": {
    "colab": {
     "base_uri": "https://localhost:8080/"
    },
    "executionInfo": {
     "elapsed": 1192,
     "status": "ok",
     "timestamp": 1612684350635,
     "user": {
      "displayName": "haresh suvvari",
      "photoUrl": "https://lh3.googleusercontent.com/a-/AOh14GiYyNgK2vcRSBBUKZQkku7DrABRGFClu-dcr1Mg=s64",
      "userId": "17479193107625929268"
     },
     "user_tz": -330
    },
    "id": "XXL5FL0qP2OJ",
    "outputId": "84c9f44d-3353-4e78-9780-00f996be1abc"
   },
   "outputs": [
    {
     "name": "stdout",
     "output_type": "stream",
     "text": [
      "we found best accuracy : 0.48\n"
     ]
    }
   ],
   "source": [
    "Best_Model_with_epsilon=LogisticRegression(penalty='l2',C=0.0001)\n",
    "Best_Model_with_epsilon.fit(X1,y_train)\n",
    "y_pred_new=Best_Model_with_epsilon.predict(x_test)\n",
    "best_score_new = accuracy_score(y_test,y_pred_new)\n",
    "print(\"we found best accuracy :\",best_score_new)"
   ]
  },
  {
   "cell_type": "code",
   "execution_count": null,
   "metadata": {
    "colab": {
     "base_uri": "https://localhost:8080/"
    },
    "executionInfo": {
     "elapsed": 1480,
     "status": "ok",
     "timestamp": 1612685149045,
     "user": {
      "displayName": "haresh suvvari",
      "photoUrl": "https://lh3.googleusercontent.com/a-/AOh14GiYyNgK2vcRSBBUKZQkku7DrABRGFClu-dcr1Mg=s64",
      "userId": "17479193107625929268"
     },
     "user_tz": -330
    },
    "id": "IFNWTOweaaOA",
    "outputId": "c66642f9-97dc-46f7-b284-4f8ac81bd0b2"
   },
   "outputs": [
    {
     "name": "stdout",
     "output_type": "stream",
     "text": [
      "Feature names _____Importance\n",
      "x ---------------- 0.0024986066974343702\n",
      "y ---------------- -0.002596772364332336\n",
      "z ---------------- 0.0036033135967510105\n",
      "x*x ---------------- 0.0024875977076348273\n",
      "2*y ---------------- -0.00259677236433232\n",
      "2*z+3*x*x ---------------- 0.0026738968288198086\n",
      "w ---------------- 0.0023005476763268942\n"
     ]
    }
   ],
   "source": [
    "bm=data.columns\n",
    "print(\"Feature names _____Importance\")\n",
    "for i,v in enumerate(Best_Model_with_epsilon.coef_[0]):\n",
    "  print(bm[i],\"----------------\",v)"
   ]
  },
  {
   "cell_type": "code",
   "execution_count": null,
   "metadata": {
    "colab": {
     "base_uri": "https://localhost:8080/",
     "height": 265
    },
    "executionInfo": {
     "elapsed": 1617,
     "status": "ok",
     "timestamp": 1612684557286,
     "user": {
      "displayName": "haresh suvvari",
      "photoUrl": "https://lh3.googleusercontent.com/a-/AOh14GiYyNgK2vcRSBBUKZQkku7DrABRGFClu-dcr1Mg=s64",
      "userId": "17479193107625929268"
     },
     "user_tz": -330
    },
    "id": "MuXDh7eGexXY",
    "outputId": "1f88aa3b-fb76-4548-e6a0-d31f3a8db832"
   },
   "outputs": [
    {
     "data": {
      "image/png": "[encoded data removed]",
      "text/plain": [
       "<Figure size 432x288 with 1 Axes>"
      ]
     },
     "metadata": {
      "needs_background": "light",
      "tags": []
     },
     "output_type": "display_data"
    }
   ],
   "source": [
    "from matplotlib import pyplot\n",
    "pyplot.bar([x for x in range(len(Best_Model_with_epsilon.coef_[0]))], Best_Model_with_epsilon.coef_[0])\n",
    "pyplot.show()"
   ]
  },
  {
   "cell_type": "markdown",
   "metadata": {
    "id": "_XsVOeTPVoeR"
   },
   "source": [
    "#Task 2 (SVM)"
   ]
  },
  {
   "cell_type": "code",
   "execution_count": null,
   "metadata": {
    "colab": {
     "base_uri": "https://localhost:8080/"
    },
    "executionInfo": {
     "elapsed": 1350,
     "status": "ok",
     "timestamp": 1612689744549,
     "user": {
      "displayName": "haresh suvvari",
      "photoUrl": "https://lh3.googleusercontent.com/a-/AOh14GiYyNgK2vcRSBBUKZQkku7DrABRGFClu-dcr1Mg=s64",
      "userId": "17479193107625929268"
     },
     "user_tz": -330
    },
    "id": "ubO0pr2CVzEi",
    "outputId": "0658186e-1938-47f7-dd21-ef12c064f3e7"
   },
   "outputs": [
    {
     "name": "stdout",
     "output_type": "stream",
     "text": [
      "We found best \"HYPER-PARAMETER (regularization parameter): {'C': 0.0001}\n"
     ]
    }
   ],
   "source": [
    "#finding besst hyper parameter for svm.\n",
    "from sklearn import svm\n",
    "C = np.logspace(-4, 4, 50)\n",
    "lrs=svm.SVC(kernel='rbf')\n",
    "grid_values1={'C':C}\n",
    "grid_clf1 = GridSearchCV(lrs,param_grid = grid_values1)\n",
    "grid_clf1.fit(X,Y)\n",
    "print(\"We found best \\\"HYPER-PARAMETER (regularization parameter):\",grid_clf1.best_params_)"
   ]
  },
  {
   "cell_type": "code",
   "execution_count": null,
   "metadata": {
    "colab": {
     "base_uri": "https://localhost:8080/"
    },
    "executionInfo": {
     "elapsed": 1033,
     "status": "ok",
     "timestamp": 1612690073742,
     "user": {
      "displayName": "haresh suvvari",
      "photoUrl": "https://lh3.googleusercontent.com/a-/AOh14GiYyNgK2vcRSBBUKZQkku7DrABRGFClu-dcr1Mg=s64",
      "userId": "17479193107625929268"
     },
     "user_tz": -330
    },
    "id": "pmPYq2aWVy77",
    "outputId": "1aadbafe-bd7a-4ce5-b3be-74e90eab8d2a"
   },
   "outputs": [
    {
     "name": "stdout",
     "output_type": "stream",
     "text": [
      "we found best accuracy for SVM : 0.48\n"
     ]
    }
   ],
   "source": [
    "#Training the svm with BEST HYPERPARAMETER and PENALTY (Best Model).\n",
    "import pandas\n",
    "from sklearn.model_selection import train_test_split\n",
    "Best_Model_svm=svm.SVC(C=0.0001,kernel='linear')\n",
    "Best_Model_svm.fit(x_train,y_train)\n",
    "y_pred1=Best_Model_svm.predict(x_test)\n",
    "best_score1 = accuracy_score(y_test,y_pred1)\n",
    "print(\"we found best accuracy for SVM :\",best_score1)"
   ]
  },
  {
   "cell_type": "code",
   "execution_count": null,
   "metadata": {
    "colab": {
     "base_uri": "https://localhost:8080/"
    },
    "executionInfo": {
     "elapsed": 1045,
     "status": "ok",
     "timestamp": 1612690104832,
     "user": {
      "displayName": "haresh suvvari",
      "photoUrl": "https://lh3.googleusercontent.com/a-/AOh14GiYyNgK2vcRSBBUKZQkku7DrABRGFClu-dcr1Mg=s64",
      "userId": "17479193107625929268"
     },
     "user_tz": -330
    },
    "id": "MD0oHKiVj4rd",
    "outputId": "5fa511a2-829f-4a37-cc82-a89328ce6c74"
   },
   "outputs": [
    {
     "name": "stdout",
     "output_type": "stream",
     "text": [
      "Feature names _____Importance\n",
      "x ---------------- 0.004839605504571616\n",
      "y ---------------- -0.0051643874393826235\n",
      "z ---------------- 0.007127590836082678\n",
      "x*x ---------------- 0.004803876113765956\n",
      "2*y ---------------- -0.005164387439382623\n",
      "2*z+3*x*x ---------------- 0.0051840624724073655\n",
      "w ---------------- 0.00445112316799278\n"
     ]
    }
   ],
   "source": [
    "bm=data.columns\n",
    "print(\"Feature names _____Importance\")\n",
    "for i2,v2 in enumerate(Best_Model_svm.coef_[0]):\n",
    "  print(bm[i2],\"----------------\",v2)"
   ]
  },
  {
   "cell_type": "code",
   "execution_count": null,
   "metadata": {
    "colab": {
     "base_uri": "https://localhost:8080/",
     "height": 265
    },
    "executionInfo": {
     "elapsed": 1044,
     "status": "ok",
     "timestamp": 1612690152336,
     "user": {
      "displayName": "haresh suvvari",
      "photoUrl": "https://lh3.googleusercontent.com/a-/AOh14GiYyNgK2vcRSBBUKZQkku7DrABRGFClu-dcr1Mg=s64",
      "userId": "17479193107625929268"
     },
     "user_tz": -330
    },
    "id": "t6F6sTzT0lho",
    "outputId": "d7aed0fd-6004-4e2d-817c-e15cff4806d2"
   },
   "outputs": [
    {
     "data": {
      "image/png": "[encoded data removed]",
      "text/plain": [
       "<Figure size 432x288 with 1 Axes>"
      ]
     },
     "metadata": {
      "needs_background": "light",
      "tags": []
     },
     "output_type": "display_data"
    }
   ],
   "source": [
    "pyplot.bar([x for x in range(len(Best_Model_svm.coef_[0]))], Best_Model_svm.coef_[0])\n",
    "pyplot.show()"
   ]
  },
  {
   "cell_type": "code",
   "execution_count": null,
   "metadata": {
    "colab": {
     "base_uri": "https://localhost:8080/"
    },
    "executionInfo": {
     "elapsed": 1355,
     "status": "ok",
     "timestamp": 1612690233537,
     "user": {
      "displayName": "haresh suvvari",
      "photoUrl": "https://lh3.googleusercontent.com/a-/AOh14GiYyNgK2vcRSBBUKZQkku7DrABRGFClu-dcr1Mg=s64",
      "userId": "17479193107625929268"
     },
     "user_tz": -330
    },
    "id": "fTwk9sDEZ0t9",
    "outputId": "6d2cd2ef-8cd7-4372-ea47-35a586e2579d"
   },
   "outputs": [
    {
     "name": "stdout",
     "output_type": "stream",
     "text": [
      "we found best accuracy : 0.48\n"
     ]
    }
   ],
   "source": [
    "Best_Model_svm_with_epsilon=svm.SVC(C=0.0001,kernel='linear')\n",
    "Best_Model_svm_with_epsilon.fit(X1,y_train)\n",
    "y_pred_new_svm=Best_Model_svm_with_epsilon.predict(x_test)\n",
    "best_score_new_svm = accuracy_score(y_test,y_pred_new_svm)\n",
    "print(\"we found best accuracy :\",best_score_new_svm)"
   ]
  },
  {
   "cell_type": "code",
   "execution_count": null,
   "metadata": {
    "colab": {
     "base_uri": "https://localhost:8080/"
    },
    "executionInfo": {
     "elapsed": 1151,
     "status": "ok",
     "timestamp": 1612690496250,
     "user": {
      "displayName": "haresh suvvari",
      "photoUrl": "https://lh3.googleusercontent.com/a-/AOh14GiYyNgK2vcRSBBUKZQkku7DrABRGFClu-dcr1Mg=s64",
      "userId": "17479193107625929268"
     },
     "user_tz": -330
    },
    "id": "BhXnasfdgOma",
    "outputId": "231ddf0f-72cb-4eb5-c093-e7a560c7dbaa"
   },
   "outputs": [
    {
     "name": "stdout",
     "output_type": "stream",
     "text": [
      "Feature names _____Importance\n",
      "x 0.004839605504571616\n",
      "y -0.0051643874393826235\n",
      "z 0.007127590836082679\n",
      "x*x 0.004803876113765957\n",
      "2*y -0.0051643874393826235\n",
      "2*z+3*x*x 0.005184062472407365\n",
      "w 0.00445112316799278\n"
     ]
    }
   ],
   "source": [
    "print(\"Feature names _____Importance\")\n",
    "for i1,v1 in enumerate(Best_Model_svm_with_epsilon.coef_[0]):\n",
    "  print(bm[i1],v1)"
   ]
  },
  {
   "cell_type": "code",
   "execution_count": null,
   "metadata": {
    "colab": {
     "base_uri": "https://localhost:8080/",
     "height": 265
    },
    "executionInfo": {
     "elapsed": 1038,
     "status": "ok",
     "timestamp": 1612690569749,
     "user": {
      "displayName": "haresh suvvari",
      "photoUrl": "https://lh3.googleusercontent.com/a-/AOh14GiYyNgK2vcRSBBUKZQkku7DrABRGFClu-dcr1Mg=s64",
      "userId": "17479193107625929268"
     },
     "user_tz": -330
    },
    "id": "Uk9NoJ4_gOuw",
    "outputId": "915e9884-264b-408e-ef45-796da004ec26"
   },
   "outputs": [
    {
     "data": {
      "image/png": "[encoded data removed]",
      "text/plain": [
       "<Figure size 432x288 with 1 Axes>"
      ]
     },
     "metadata": {
      "needs_background": "light",
      "tags": []
     },
     "output_type": "display_data"
    }
   ],
   "source": [
    "pyplot.bar([x for x in range(len(Best_Model_svm_with_epsilon.coef_[0]))], Best_Model_svm_with_epsilon.coef_[0])\n",
    "pyplot.show()"
   ]
  },
  {
   "cell_type": "markdown",
   "metadata": {
    "id": "sEmMGqjL7T6F"
   },
   "source": []
  }
 ],
 "metadata": {
  "accelerator": "TPU",
  "colab": {
   "collapsed_sections": [],
   "name": "8D_LR_SVM.ipynb",
   "provenance": [],
   "toc_visible": true
  },
  "kernelspec": {
   "display_name": "Python 3",
   "language": "python",
   "name": "python3"
  },
  "language_info": {
   "codemirror_mode": {
    "name": "ipython",
    "version": 3
   },
   "file_extension": ".py",
   "mimetype": "text/x-python",
   "name": "python",
   "nbconvert_exporter": "python",
   "pygments_lexer": "ipython3",
   "version": "3.7.6"
  }
 },
 "nbformat": 4,
 "nbformat_minor": 4
}
